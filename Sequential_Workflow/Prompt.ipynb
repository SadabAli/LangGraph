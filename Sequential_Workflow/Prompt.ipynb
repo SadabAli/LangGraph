{
 "cells": [
  {
   "cell_type": "code",
   "execution_count": 1,
   "id": "64386692",
   "metadata": {},
   "outputs": [
    {
     "name": "stdout",
     "output_type": "stream",
     "text": [
      "{'title': 'Rise of AI in India', 'outline': \"I. Introduction\\n    A. Brief explanation of AI\\n    B. Overview of AI's growth and impact in India\\n    C. Purpose of the blog\\n\\nII. Historical Context of AI in India\\n    A. Brief history of AI development in India\\n    B. Key milestones in AI adoption in various sectors\\n    C. Comparison with global AI trends\\n\\nIII. Current State of AI in India\\n    A. Overview of AI startups and companies in India\\n    B. Adoption of AI in key industries such as healthcare, finance, and e-commerce\\n    C. Government initiatives to promote AI research and development\\n\\nIV. Challenges and Opportunities for AI in India\\n    A. Regulatory challenges in AI adoption\\n    B. Skills gap in AI workforce\\n    C. Opportunities for AI to drive innovation and economic growth in India\\n\\nV. Case Studies of AI Implementation in India\\n    A. Healthcare: Use of AI for diagnostics and patient care\\n    B. Finance: AI applications in fraud detection and risk management\\n    C. Agriculture: Precision farming using AI technologies\\n\\nVI. Future Outlook for AI in India\\n    A. Predictions for AI growth and development in India\\n    B. Potential challenges and opportunities for AI in the future\\n    C. Recommendations for policymakers, businesses, and individuals to prepare for the rise of AI\\n\\nVII. Conclusion\\n    A. Recap of key points discussed in the blog\\n    B. Final thoughts on the impact of AI in India\\n    C. Call to action for readers to stay informed and engaged in the AI ecosystem in India.\", 'content': \"I. Introduction\\n\\nA. Artificial Intelligence (AI) is a branch of computer science that focuses on creating intelligent machines that can simulate human cognitive functions such as problem solving, learning, and decision making. \\n\\nB. In recent years, AI has seen significant growth and impact in India across various sectors including healthcare, finance, e-commerce, and agriculture. \\n\\nC. The purpose of this blog is to explore the rise of AI in India, looking at its historical context, current state, challenges and opportunities, case studies of AI implementation, future outlook, and recommendations for stakeholders in the AI ecosystem.\\n\\nII. Historical Context of AI in India\\n\\nA. India has a rich history in AI development with research dating back to the 1980s. \\n\\nB. Key milestones in AI adoption in India include the establishment of research institutions such as the Indian Statistical Institute (ISI) and the Indian Institute of Technology (IIT) with dedicated AI labs. \\n\\nC. Compared to global AI trends, India has been making significant strides in AI research and development, with Indian companies and startups making a mark on the global AI landscape.\\n\\nIII. Current State of AI in India\\n\\nA. India is home to a growing number of AI startups and companies, with hubs in cities like Bangalore, Hyderabad, and Mumbai. \\n\\nB. AI is being adopted in key industries such as healthcare, where AI is being used for diagnostics and patient care, finance for fraud detection and risk management, and e-commerce for personalized recommendations and predictive analytics. \\n\\nC. The government has also been proactive in promoting AI research and development through initiatives like the National AI Strategy and the National Programme on Artificial Intelligence.\\n\\nIV. Challenges and Opportunities for AI in India\\n\\nA. Regulatory challenges in AI adoption include issues around data protection, privacy, and fairness in AI algorithms. \\n\\nB. There is also a skills gap in the AI workforce, with a shortage of AI talent in India. \\n\\nC. However, there are immense opportunities for AI to drive innovation and economic growth in India, especially in sectors like healthcare, education, agriculture, and manufacturing.\\n\\nV. Case Studies of AI Implementation in India\\n\\nA. In healthcare, AI is being used for diagnostics, personalized medicine, and remote patient monitoring. \\n\\nB. In finance, AI is being employed for fraud detection, algorithmic trading, and customer service. \\n\\nC. In agriculture, AI is enabling precision farming through the use of drones, sensors, and machine learning algorithms.\\n\\nVI. Future Outlook for AI in India\\n\\nA. Predictions for AI growth in India include increased adoption of AI across sectors, advancements in AI research, and the emergence of new AI startups and technologies. \\n\\nB. Challenges in the future may include ethical concerns around AI, job displacement due to automation, and the need for upskilling the workforce in AI technologies. \\n\\nC. Recommendations for policymakers, businesses, and individuals include investing in AI education and training, ensuring ethical AI practices, and fostering collaboration between industry and academia.\\n\\nVII. Conclusion\\n\\nA. In conclusion, the rise of AI in India presents both challenges and opportunities for the country's economy and society. \\n\\nB. The impact of AI on India is undeniable, and it is crucial for stakeholders to stay informed and engaged in the AI ecosystem to harness the full potential of this transformative technology.\\n\\nC. I encourage readers to continue learning about AI and its applications in India, and to be proactive in shaping the future of AI in the country.\"}\n"
     ]
    }
   ],
   "source": [
    "from langgraph.graph import StateGraph, START, END\n",
    "from langchain_openai import ChatOpenAI\n",
    "from typing import TypedDict\n",
    "from dotenv import load_dotenv\n",
    "load_dotenv()\n",
    "\n",
    "model = ChatOpenAI()\n",
    "class BlogState(TypedDict):\n",
    "\n",
    "    title: str\n",
    "    outline: str\n",
    "    content: str\n",
    "def create_outline(state: BlogState) -> BlogState:\n",
    "\n",
    "    # fetch title\n",
    "    title = state['title']\n",
    "\n",
    "    # call llm gen outline\n",
    "    prompt = f'Generate a detailed outline for a blog on the topic - {title}'\n",
    "    outline = model.invoke(prompt).content\n",
    "\n",
    "    # update state\n",
    "    state['outline'] = outline\n",
    "\n",
    "    return state\n",
    "def create_blog(state: BlogState) -> BlogState:\n",
    "\n",
    "    title = state['title']\n",
    "    outline = state['outline']\n",
    "\n",
    "    prompt = f'Write a detailed blog on the title - {title} using the follwing outline \\n {outline}'\n",
    "\n",
    "    content = model.invoke(prompt).content\n",
    "\n",
    "    state['content'] = content\n",
    "\n",
    "    return state\n",
    "graph = StateGraph(BlogState)\n",
    "\n",
    "# nodes\n",
    "graph.add_node('create_outline', create_outline)\n",
    "graph.add_node('create_blog', create_blog)\n",
    "\n",
    "# edges\n",
    "graph.add_edge(START, 'create_outline')\n",
    "graph.add_edge('create_outline', 'create_blog')\n",
    "graph.add_edge('create_blog', END)\n",
    "\n",
    "workflow = graph.compile()\n",
    "intial_state = {'title': 'Rise of AI in India'}\n",
    "\n",
    "final_state = workflow.invoke(intial_state)\n",
    "\n",
    "print(final_state)\n"
   ]
  },
  {
   "cell_type": "code",
   "execution_count": 2,
   "id": "0ffe385f",
   "metadata": {},
   "outputs": [
    {
     "name": "stdout",
     "output_type": "stream",
     "text": [
      "I. Introduction\n",
      "\n",
      "A. Artificial Intelligence (AI) is a branch of computer science that focuses on creating intelligent machines that can simulate human cognitive functions such as problem solving, learning, and decision making. \n",
      "\n",
      "B. In recent years, AI has seen significant growth and impact in India across various sectors including healthcare, finance, e-commerce, and agriculture. \n",
      "\n",
      "C. The purpose of this blog is to explore the rise of AI in India, looking at its historical context, current state, challenges and opportunities, case studies of AI implementation, future outlook, and recommendations for stakeholders in the AI ecosystem.\n",
      "\n",
      "II. Historical Context of AI in India\n",
      "\n",
      "A. India has a rich history in AI development with research dating back to the 1980s. \n",
      "\n",
      "B. Key milestones in AI adoption in India include the establishment of research institutions such as the Indian Statistical Institute (ISI) and the Indian Institute of Technology (IIT) with dedicated AI labs. \n",
      "\n",
      "C. Compared to global AI trends, India has been making significant strides in AI research and development, with Indian companies and startups making a mark on the global AI landscape.\n",
      "\n",
      "III. Current State of AI in India\n",
      "\n",
      "A. India is home to a growing number of AI startups and companies, with hubs in cities like Bangalore, Hyderabad, and Mumbai. \n",
      "\n",
      "B. AI is being adopted in key industries such as healthcare, where AI is being used for diagnostics and patient care, finance for fraud detection and risk management, and e-commerce for personalized recommendations and predictive analytics. \n",
      "\n",
      "C. The government has also been proactive in promoting AI research and development through initiatives like the National AI Strategy and the National Programme on Artificial Intelligence.\n",
      "\n",
      "IV. Challenges and Opportunities for AI in India\n",
      "\n",
      "A. Regulatory challenges in AI adoption include issues around data protection, privacy, and fairness in AI algorithms. \n",
      "\n",
      "B. There is also a skills gap in the AI workforce, with a shortage of AI talent in India. \n",
      "\n",
      "C. However, there are immense opportunities for AI to drive innovation and economic growth in India, especially in sectors like healthcare, education, agriculture, and manufacturing.\n",
      "\n",
      "V. Case Studies of AI Implementation in India\n",
      "\n",
      "A. In healthcare, AI is being used for diagnostics, personalized medicine, and remote patient monitoring. \n",
      "\n",
      "B. In finance, AI is being employed for fraud detection, algorithmic trading, and customer service. \n",
      "\n",
      "C. In agriculture, AI is enabling precision farming through the use of drones, sensors, and machine learning algorithms.\n",
      "\n",
      "VI. Future Outlook for AI in India\n",
      "\n",
      "A. Predictions for AI growth in India include increased adoption of AI across sectors, advancements in AI research, and the emergence of new AI startups and technologies. \n",
      "\n",
      "B. Challenges in the future may include ethical concerns around AI, job displacement due to automation, and the need for upskilling the workforce in AI technologies. \n",
      "\n",
      "C. Recommendations for policymakers, businesses, and individuals include investing in AI education and training, ensuring ethical AI practices, and fostering collaboration between industry and academia.\n",
      "\n",
      "VII. Conclusion\n",
      "\n",
      "A. In conclusion, the rise of AI in India presents both challenges and opportunities for the country's economy and society. \n",
      "\n",
      "B. The impact of AI on India is undeniable, and it is crucial for stakeholders to stay informed and engaged in the AI ecosystem to harness the full potential of this transformative technology.\n",
      "\n",
      "C. I encourage readers to continue learning about AI and its applications in India, and to be proactive in shaping the future of AI in the country.\n"
     ]
    }
   ],
   "source": [
    "print(final_state['content'])"
   ]
  },
  {
   "cell_type": "code",
   "execution_count": null,
   "id": "e061536b",
   "metadata": {},
   "outputs": [],
   "source": []
  }
 ],
 "metadata": {
  "kernelspec": {
   "display_name": "env",
   "language": "python",
   "name": "python3"
  },
  "language_info": {
   "codemirror_mode": {
    "name": "ipython",
    "version": 3
   },
   "file_extension": ".py",
   "mimetype": "text/x-python",
   "name": "python",
   "nbconvert_exporter": "python",
   "pygments_lexer": "ipython3",
   "version": "3.11.5"
  }
 },
 "nbformat": 4,
 "nbformat_minor": 5
}
