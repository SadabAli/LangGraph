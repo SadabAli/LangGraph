{
 "cells": [
  {
   "cell_type": "code",
   "execution_count": 2,
   "id": "e75122e9",
   "metadata": {},
   "outputs": [],
   "source": [
    "from langchain_google_genai import ChatGoogleGenerativeAI\n",
    "from langgraph.graph import StateGraph, START, END\n",
    "from dotenv import load_dotenv \n",
    "load_dotenv()\n",
    "from typing import TypedDict"
   ]
  },
  {
   "cell_type": "code",
   "execution_count": 3,
   "id": "b6f38278",
   "metadata": {},
   "outputs": [],
   "source": [
    "model = ChatGoogleGenerativeAI(model='gemini-2.5-flash')"
   ]
  },
  {
   "cell_type": "code",
   "execution_count": null,
   "id": "6d4487b9",
   "metadata": {},
   "outputs": [
    {
     "data": {
      "text/plain": [
       "\"That's one of the most profound and enduring questions humanity has ever asked, and there's no single, universally agreed-upon answer. Love is a multifaceted, complex, and deeply personal experience.\\n\\nHowever, we can explore its many dimensions:\\n\\n1.  **A Deep Emotion:** At its core, love is often described as a powerful feeling of intense affection, warmth, and care for another person, animal, or even an idea. It brings joy, comfort, and a sense of connection.\\n\\n2.  **A Set of Behaviors and Actions:** Love isn't just a feeling; it's also something you *do*. It manifests through:\\n    *   **Caring:** A genuine concern for the well-being and happiness of the beloved.\\n    *   **Support:** Standing by someone, offering encouragement, and helping them through challenges.\\n    *   **Respect:** Valuing the other person's individuality, opinions, and boundaries.\\n    *   **Empathy:** Understanding and sharing the feelings of another.\\n    *   **Commitment:** A dedication to the relationship or person, often involving effort and perseverance.\\n    *   **Vulnerability:** The willingness to be open, authentic, and sometimes imperfect with another.\\n    *   **Sacrifice:** Putting someone else's needs or happiness before your own.\\n    *   **Forgiveness:** The ability to let go of hurt and move forward.\\n\\n3.  **A Bond and Connection:** Love creates a unique bond between individuals, fostering a sense of belonging, intimacy, and shared experience. It's about feeling truly seen, understood, and accepted.\\n\\n4.  **A Choice:** While an initial spark of attraction or affection might feel involuntary, sustaining love often involves a conscious choice to nurture the relationship, to work through difficulties, and to continue investing in the other person.\\n\\n5.  **Growth and Transformation:** Love can be a powerful catalyst for personal growth. It challenges us, teaches us patience, resilience, and compassion, and can help us become better versions of ourselves.\\n\\n**Types of Love:**\\n\\nLove isn't monolithic. It manifests in various forms:\\n\\n*   **Romantic Love (Eros/Philia/Agape blend):** Characterized by passion, intimacy, and commitment, often involving physical attraction and a deep emotional bond.\\n*   **Familial Love (Storge):** The deep, often unconditional love between family members (parents, children, siblings).\\n*   **Platonic Love/Friendship (Philia):** Affection, loyalty, and companionship shared between friends, based on mutual respect and shared interests.\\n*   **Self-Love:** A healthy regard for one's own well-being and happiness; essential for healthy relationships with others.\\n*   **Universal Love/Compassion (Agape):** A broader, altruistic love for humanity, nature, or a higher power, characterized by empathy and benevolence.\\n*   **Love for a Hobby/Passion:** A deep enthusiasm and dedication to an activity, art form, or cause.\\n\\n**In essence, love is:**\\n\\n*   **A fundamental human experience** that transcends cultures and time.\\n*   **A powerful force** that motivates, heals, and connects.\\n*   **Both a feeling and an action,** requiring both emotional connection and conscious effort.\\n*   **Deeply personal and subjective,** meaning its definition can vary greatly from person to person.\\n\\nUltimately, love is something to be experienced, practiced, and understood in its countless forms, rather than strictly defined.\""
      ]
     },
     "execution_count": 4,
     "metadata": {},
     "output_type": "execute_result"
    }
   ],
   "source": [
    "# model.invoke('what is love').content"
   ]
  },
  {
   "cell_type": "code",
   "execution_count": 5,
   "id": "be574224",
   "metadata": {},
   "outputs": [],
   "source": [
    "class LLMState(TypedDict):\n",
    "    question : str \n",
    "    answer : str"
   ]
  },
  {
   "cell_type": "code",
   "execution_count": 6,
   "id": "d85ffa5a",
   "metadata": {},
   "outputs": [],
   "source": [
    "def LLmQA(state: LLMState) -> LLMState:\n",
    "\n",
    "    # Extract question from state\n",
    "    question = state['question']\n",
    "\n",
    "    # creating the prompt \n",
    "    prompt = f'Answer the following question {question}'\n",
    "\n",
    "    # ask to llm \n",
    "    answer = model.invoke(prompt).content\n",
    "\n",
    "    # update the answer\n",
    "    state['answer'] = answer \n",
    "\n",
    "    return state"
   ]
  },
  {
   "cell_type": "code",
   "execution_count": 13,
   "id": "c014b7e9",
   "metadata": {},
   "outputs": [],
   "source": [
    "# creating the graph \n",
    "\n",
    "graph = StateGraph(LLMState)\n",
    "\n",
    "# adding the node \n",
    "graph.add_node('LLmQA',LLmQA) \n",
    "\n",
    "# adding the edges \n",
    "\n",
    "graph.add_edge(START,'LLmQA')\n",
    "graph.add_edge('LLmQA', END) \n",
    "\n",
    "# compilation \n",
    "\n",
    "workflow = graph.compile()"
   ]
  },
  {
   "cell_type": "code",
   "execution_count": 17,
   "id": "8f455961",
   "metadata": {},
   "outputs": [
    {
     "name": "stdout",
     "output_type": "stream",
     "text": [
      "That's a very poetic and heartfelt statement.\n",
      "\n",
      "It suggests she holds a truly unique and special place in your heart. An \"incomplete wish\" implies something deeply desired, perhaps a dream or a future you envision, that hasn't fully come to fruition yet.\n",
      "\n",
      "But the fact that she's your **favorite** incomplete wish speaks volumes. It means that even in its unfulfilled state, or the potential it represents, she is cherished above all else. It's a beautiful and somewhat bittersweet sentiment, highlighting enduring hope, deep affection, and the unique bond you share.\n"
     ]
    }
   ],
   "source": [
    "# execution \n",
    "initial_state = {'question': 'she is my fav. incomplete wish...'}\n",
    "final_state = workflow.invoke(initial_state)\n",
    "\n",
    "print(final_state['answer'])"
   ]
  },
  {
   "cell_type": "code",
   "execution_count": null,
   "id": "687e6d1f",
   "metadata": {},
   "outputs": [],
   "source": [
    "\"\"\"\n",
    "That's a very poetic and heartfelt statement.\n",
    "\n",
    "It suggests she holds a truly unique and special place in your heart. An \"incomplete wish\" implies something deeply desired, perhaps a dream or a future you envision, that hasn't fully come to fruition yet.\n",
    "\n",
    "But the fact that she's your **favorite** incomplete wish speaks volumes. It means that even in its unfulfilled state, or the potential it represents, she is cherished above all else. It's a beautiful and somewhat bittersweet sentiment, highlighting enduring hope, deep affection, and the unique bond you share.\n",
    "\"\"\" "
   ]
  }
 ],
 "metadata": {
  "kernelspec": {
   "display_name": "env",
   "language": "python",
   "name": "python3"
  },
  "language_info": {
   "codemirror_mode": {
    "name": "ipython",
    "version": 3
   },
   "file_extension": ".py",
   "mimetype": "text/x-python",
   "name": "python",
   "nbconvert_exporter": "python",
   "pygments_lexer": "ipython3",
   "version": "3.11.5"
  }
 },
 "nbformat": 4,
 "nbformat_minor": 5
}
