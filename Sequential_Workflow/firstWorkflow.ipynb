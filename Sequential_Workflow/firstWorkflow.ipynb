{
 "cells": [
  {
   "cell_type": "code",
   "execution_count": 24,
   "id": "aed97491",
   "metadata": {},
   "outputs": [
    {
     "name": "stdout",
     "output_type": "stream",
     "text": [
      "{'weight_in_kg': 80, 'height_in_m': 1.67, 'BMI': 28.69, 'category': 'Overweight'}\n"
     ]
    }
   ],
   "source": [
    "from langgraph.graph import StateGraph, START, END\n",
    "from typing import TypedDict\n",
    "\n",
    "# Corrected State\n",
    "class BMIState(TypedDict, total=False):  # total=False allows keys to be optional initially\n",
    "    weight_in_kg: float\n",
    "    height_in_m: float\n",
    "    BMI: float\n",
    "    category: str\n",
    "\n",
    "# Node 1: Calculate BMI\n",
    "def bmi_calculation(state: BMIState) -> BMIState:\n",
    "    weight_in_kg = state['weight_in_kg']\n",
    "    height_in_m = state['height_in_m']\n",
    "    \n",
    "    BMI = weight_in_kg / (height_in_m ** 2)\n",
    "    state['BMI'] = round(BMI, 2)\n",
    "    return state\n",
    "\n",
    "# Node 2: Categorize BMI\n",
    "def categories(state: BMIState) -> BMIState:\n",
    "    BMI = state['BMI']\n",
    "\n",
    "    if BMI < 18.5:\n",
    "        state[\"category\"] = \"Underweight\"\n",
    "    elif 18.5 <= BMI < 25:\n",
    "        state[\"category\"] = \"Normal\"\n",
    "    elif 25 <= BMI < 30:\n",
    "        state[\"category\"] = \"Overweight\"\n",
    "    else:\n",
    "        state[\"category\"] = \"Obese\"\n",
    "\n",
    "    return state\n",
    "\n",
    "# Graph definition\n",
    "graph = StateGraph(BMIState)\n",
    "\n",
    "graph.add_node('bmi_calculation', bmi_calculation)\n",
    "graph.add_node('categories', categories)\n",
    "\n",
    "graph.add_edge(START, 'bmi_calculation')\n",
    "graph.add_edge('bmi_calculation', 'categories')\n",
    "graph.add_edge('categories', END)\n",
    "\n",
    "workflow = graph.compile()\n",
    "\n",
    "# Initial input\n",
    "initial_state = {'weight_in_kg': 80, 'height_in_m': 1.67}\n",
    "final_state = workflow.invoke(initial_state)\n",
    "\n",
    "print(final_state)\n"
   ]
  },
  {
   "cell_type": "code",
   "execution_count": 25,
   "id": "c08771e0",
   "metadata": {},
   "outputs": [
    {
     "data": {
      "image/png": "[encoded data removed]",
      "text/plain": [
       "<IPython.core.display.Image object>"
      ]
     },
     "execution_count": 25,
     "metadata": {},
     "output_type": "execute_result"
    }
   ],
   "source": [
    "from IPython.display import Image\n",
    "Image(workflow.get_graph().draw_mermaid_png())"
   ]
  },
  {
   "cell_type": "code",
   "execution_count": null,
   "id": "ebf0dfac",
   "metadata": {},
   "outputs": [],
   "source": []
  }
 ],
 "metadata": {
  "kernelspec": {
   "display_name": "env",
   "language": "python",
   "name": "python3"
  },
  "language_info": {
   "codemirror_mode": {
    "name": "ipython",
    "version": 3
   },
   "file_extension": ".py",
   "mimetype": "text/x-python",
   "name": "python",
   "nbconvert_exporter": "python",
   "pygments_lexer": "ipython3",
   "version": "3.11.5"
  }
 },
 "nbformat": 4,
 "nbformat_minor": 5
}
