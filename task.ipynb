{
 "cells": [
  {
   "cell_type": "code",
   "execution_count": 1,
   "id": "1e824be3",
   "metadata": {},
   "outputs": [],
   "source": [
    "from langgraph.graph import StateGraph, START, END\n",
    "from langchain_openai import ChatOpenAI\n",
    "from typing import TypedDict\n",
    "from dotenv import load_dotenv\n",
    "load_dotenv()\n",
    "\n",
    "model = ChatOpenAI()\n"
   ]
  },
  {
   "cell_type": "code",
   "execution_count": 36,
   "id": "2804c0de",
   "metadata": {},
   "outputs": [],
   "source": [
    "class BlogState(TypedDict):\n",
    "\n",
    "    title: str\n",
    "    outline: str\n",
    "    content: str\n",
    "    feedback: str\n"
   ]
  },
  {
   "cell_type": "code",
   "execution_count": 37,
   "id": "1d2ce022",
   "metadata": {},
   "outputs": [],
   "source": [
    "def create_outline(state: BlogState) -> BlogState:\n",
    "\n",
    "    # fetch title\n",
    "    title = state['title']\n",
    "\n",
    "    # call llm gen outline\n",
    "    prompt = f'Generate a detailed outline for a blog on the topic - {title}'\n",
    "    outline = model.invoke(prompt).content\n",
    "\n",
    "    # update state\n",
    "    state['outline'] = outline\n",
    "\n",
    "    return state\n"
   ]
  },
  {
   "cell_type": "code",
   "execution_count": 38,
   "id": "f8426287",
   "metadata": {},
   "outputs": [],
   "source": [
    "def create_blog(state: BlogState) -> BlogState:\n",
    "\n",
    "    title = state['title']\n",
    "    outline = state['outline']\n",
    "\n",
    "    prompt = f'Write a detailed blog on the title - {title} using the follwing outline \\n {outline}'\n",
    "\n",
    "    content = model.invoke(prompt).content\n",
    "\n",
    "    state['content'] = content\n",
    "\n",
    "    return state\n"
   ]
  },
  {
   "cell_type": "code",
   "execution_count": null,
   "id": "7f5e9001",
   "metadata": {},
   "outputs": [],
   "source": [
    "def evaluation(state: BlogState) -> BlogState:\n",
    "    title = state['title']\n",
    "    outline = state['outline']\n",
    "    # feedback = state['feedback']\n",
    "\n",
    "    prompt = f'please exaluate the blog on the title - {title} and the outline {outline} out of 10, not on text only number'\n",
    "\n",
    "    feedback = model.invoke(prompt).content \n",
    "\n",
    "    state['feedback'] = feedback \n",
    "\n",
    "    return state\n",
    "    "
   ]
  },
  {
   "cell_type": "code",
   "execution_count": 40,
   "id": "e61f9ee1",
   "metadata": {},
   "outputs": [],
   "source": [
    "graph = StateGraph(BlogState)\n",
    "\n",
    "# nodes\n",
    "graph.add_node('create_outline', create_outline)\n",
    "graph.add_node('create_blog', create_blog)\n",
    "graph.add_node('evaluation',evaluation)\n",
    "\n",
    "# edges\n",
    "graph.add_edge(START, 'create_outline')\n",
    "graph.add_edge('create_outline', 'create_blog')\n",
    "graph.add_edge('create_blog', 'evaluation')\n",
    "graph.add_edge('evaluation', END)\n",
    "\n",
    "workflow = graph.compile()\n"
   ]
  },
  {
   "cell_type": "code",
   "execution_count": 41,
   "id": "a57d569f",
   "metadata": {},
   "outputs": [
    {
     "name": "stdout",
     "output_type": "stream",
     "text": [
      "{'title': 'Rise of AI in India', 'outline': \"I. Introduction\\n    A. Definition of AI\\n    B. Introduction to the rise of AI in India\\n    C. Importance of AI in the Indian context\\n\\nII. Historical background of AI in India\\n    A. Evolution of AI technology in India\\n    B. Major milestones in the development of AI in India\\n    C. Key players in the AI industry in India\\n\\nIII. Current scenario of AI in India\\n    A. Growth of AI startups in India\\n    B. Adoption of AI technology by Indian businesses\\n    C. Government initiatives to promote AI in India\\n\\nIV. Applications of AI in various industries in India\\n    A. Healthcare\\n    B. Banking and finance\\n    C. Education\\n    D. Retail\\n    E. Agriculture\\n    F. Manufacturing\\n\\nV. Challenges and opportunities in the AI sector in India\\n    A. Talent gap in the AI industry\\n    B. Data privacy and security issues\\n    C. Ethical considerations in the use of AI\\n    D. Opportunities for growth and expansion in the AI sector in India\\n\\nVI. Future outlook of AI in India\\n    A. Potential for further growth and development of AI technology in India\\n    B. Role of AI in shaping the future of India's economy\\n    C. Predictions for the future of AI in India\\n\\nVII. Conclusion\\n    A. Recap of key points discussed in the blog\\n    B. Final thoughts on the rise of AI in India\\n    C. Call to action for readers to stay informed about developments in the AI sector in India\", 'content': \"\\nI. Introduction\\n\\nA. Definition of AI\\nArtificial Intelligence (AI) is the branch of computer science that aims to create intelligent machines that can mimic human intelligence and perform tasks that typically require human intelligence, such as visual perception, speech recognition, decision-making, and language translation.\\n\\nB. Introduction to the rise of AI in India\\nIndia has witnessed a significant rise in the adoption and development of AI technology in recent years. With advancements in technology and an increasing focus on innovation, AI is revolutionizing various industries in India, leading to growth opportunities and economic benefits.\\n\\nC. Importance of AI in the Indian context\\nAI has the potential to transform industries, enhance efficiency, improve decision-making, and drive innovation in India. From healthcare and education to finance and manufacturing, AI is being leveraged to address key challenges and drive sustainable growth in the country.\\n\\nII. Historical background of AI in India\\n\\nA. Evolution of AI technology in India\\nThe development of AI technology in India can be traced back to the early 1990s when research and innovation in machine learning and neural networks began. Over the years, the AI ecosystem in India has evolved significantly, with the emergence of AI startups, research institutions, and collaborations with global players.\\n\\nB. Major milestones in the development of AI in India\\nSome of the key milestones in the development of AI in India include the establishment of research institutes such as the Indian Institute of Technology (IIT) and Indian Statistical Institute (ISI), the launch of AI-focused initiatives by companies like Infosys and Tata Consultancy Services, and the growth of AI startups in cities like Bangalore and Hyderabad.\\n\\nC. Key players in the AI industry in India\\nIndia is home to a vibrant ecosystem of AI startups, research institutions, and tech companies leading the charge in AI development. Some of the key players in the AI industry in India include companies like Wipro, Accenture, NVIDIA, and startups like Niki.AI, SigTuple, and Flutura.\\n\\nIII. Current scenario of AI in India\\n\\nA. Growth of AI startups in India\\nThe AI startup ecosystem in India is witnessing significant growth, with a rise in the number of startups focusing on AI-powered solutions in various sectors. These startups are leveraging cutting-edge technologies like machine learning, natural language processing, and computer vision to drive innovation and disrupt traditional industries.\\n\\nB. Adoption of AI technology by Indian businesses\\nIndian businesses are increasingly embracing AI technology to streamline operations, enhance customer experiences, and drive growth. From chatbots and virtual assistants in customer service to predictive analytics and machine learning in marketing, AI is being integrated into various business functions to improve efficiency and decision-making.\\n\\nC. Government initiatives to promote AI in India\\nThe Indian government has recognized the potential of AI technology to drive economic growth and innovation in the country. Initiatives like the National Artificial Intelligence Mission (NAIM), Startup India, Digital India, and the AI Task Force are aimed at promoting research, adoption, and development of AI technology in India.\\n\\nIV. Applications of AI in various industries in India\\n\\nA. Healthcare\\nAI is revolutionizing the healthcare industry in India by enabling better disease diagnosis, personalized treatment plans, drug discovery, and telemedicine services. AI-powered solutions like predictive analytics, image recognition, and virtual health assistants are improving patient outcomes and reducing healthcare costs.\\n\\nB. Banking and finance\\nAI is transforming the banking and finance industry in India by enhancing fraud detection, risk management, customer service, and financial decision-making. AI-powered solutions like chatbots, robo-advisors, and predictive analytics are helping banks and financial institutions improve efficiency, reduce operational risks, and enhance customer satisfaction.\\n\\nC. Education\\nAI is reshaping the education sector in India by personalizing learning experiences, improving student outcomes, and enhancing teacher productivity. AI-powered tools like adaptive learning platforms, virtual tutors, and smart classrooms are enabling students to learn at their own pace, explore new subjects, and acquire essential skills for the future.\\n\\nD. Retail\\nAI is revolutionizing the retail industry in India by enabling personalized shopping experiences, efficient supply chain management, and targeted marketing strategies. AI-powered solutions like recommendation engines, dynamic pricing algorithms, and inventory management systems are helping retailers optimize their operations, increase sales, and improve customer loyalty.\\n\\nE. Agriculture\\nAI is driving innovation in the agriculture sector in India by enhancing crop yield, optimizing resource usage, and mitigating climate risks. AI-powered solutions like smart sensors, drones, and predictive analytics are enabling farmers to make data-driven decisions, monitor crop health, and maximize agricultural productivity.\\n\\nF. Manufacturing\\nAI is transforming the manufacturing sector in India by enabling automation, predictive maintenance, quality control, and supply chain optimization. AI-powered solutions like robotics, IoT sensors, and predictive analytics are helping manufacturers improve operational efficiency, reduce downtime, and enhance product quality.\\n\\nV. Challenges and opportunities in the AI sector in India\\n\\nA. Talent gap in the AI industry\\nOne of the key challenges facing the AI industry in India is the shortage of skilled professionals with expertise in AI technologies like machine learning, data science, and deep learning. Addressing the talent gap through training programs, skill development initiatives, and collaborations with educational institutions is essential to accelerate AI adoption and innovation in India.\\n\\nB. Data privacy and security issues\\nData privacy and security concerns are critical issues that need to be addressed in the AI industry in India. With the increasing amount of data generated and processed by AI systems, ensuring data privacy, compliance with regulations, and protection against cyber threats is paramount to build trust and confidence in AI technology.\\n\\nC. Ethical considerations in the use of AI\\nEthical considerations surrounding AI technology, such as bias in algorithms, AI accountability, and transparency in decision-making, are important aspects that need to be taken into account in the development and deployment of AI systems in India. Establishing ethical guidelines, standards, and frameworks for AI development and usage is crucial to ensure responsible and ethical AI practices.\\n\\nD. Opportunities for growth and expansion in the AI sector in India\\nDespite the challenges, the AI sector in India offers significant opportunities for growth and expansion in various industries. With a strong talent pool, a growing startup ecosystem, and government support, India has the potential to become a global hub for AI innovation, research, and development. Collaborations with international partners, investments in R&D, and adoption of emerging AI technologies are key drivers for the growth of the AI sector in India.\\n\\nVI. Future outlook of AI in India\\n\\nA. Potential for further growth and development of AI technology in India\\nThe future of AI in India looks promising, with opportunities for further growth and development across industries. As AI technologies continue to mature, advancements in areas like machine learning, robotics, and natural language processing will drive innovation and new possibilities for AI applications in India.\\n\\nB. Role of AI in shaping the future of India's economy\\nAI is expected to play a significant role in shaping the future of India's economy by driving digital transformation, enhancing productivity, creating new job opportunities, and fostering innovation. With AI technologies becoming increasingly integrated into businesses and society, India has the potential to harness the power of AI to drive economic growth and competitiveness on a global scale.\\n\\nC. Predictions for the future of AI in India\\nLooking ahead, the AI sector in India is expected to witness continued growth, innovation, and adoption across industries. As AI technology evolves, applications like autonomous vehicles, predictive healthcare, smart cities, and personalized services will become more prominent, leading to a transformative impact on society and the economy in India.\\n\\nVII. Conclusion\\n\\nA. Recap of key points discussed in the blog\\nThe rise of AI in India has brought about significant advancements, opportunities, and challenges across industries, driving innovation, efficiency, and growth. From healthcare and finance to education and manufacturing, AI is reshaping the way businesses operate and deliver services in India.\\n\\nB. Final thoughts on the rise of AI in India\\nThe rise of AI in India signifies a new era of technological transformation, where AI has the potential to drive sustainable growth, foster innovation, and solve complex challenges in society. Embracing AI technology with a focus on ethics, talent development, and collaboration will enable India to harness the full potential of AI and shape a brighter future for the country.\\n\\nC. Call to action for readers to stay informed about developments in the AI sector in India\\nAs AI continues to evolve and expand in India, staying informed about the latest trends, research, and opportunities in the AI sector is essential for businesses, professionals, and policymakers. By staying engaged, participating in discussions, and exploring new possibilities, individuals can contribute to the growth and success of AI in India.\", 'feedback': 'I would rate this blog outline an 8 out of 10. It covers a comprehensive range of topics related to the rise of AI in India, including historical background, current scenario, applications in various industries, challenges and opportunities, future outlook, and a conclusion. However, it could be improved by including more specific examples of AI technology and startups in India, as well as a deeper analysis of the impact of AI on Indian society and economy. Overall, it provides a good overview of the topic and highlights key areas of interest for readers.'}\n"
     ]
    }
   ],
   "source": [
    "intial_state = {'title': 'Rise of AI in India'}\n",
    "\n",
    "final_state = workflow.invoke(intial_state)\n",
    "\n",
    "print(final_state)"
   ]
  },
  {
   "cell_type": "code",
   "execution_count": 43,
   "id": "ef5b6916",
   "metadata": {},
   "outputs": [
    {
     "name": "stdout",
     "output_type": "stream",
     "text": [
      "I would rate this blog outline an 8 out of 10. It covers a comprehensive range of topics related to the rise of AI in India, including historical background, current scenario, applications in various industries, challenges and opportunities, future outlook, and a conclusion. However, it could be improved by including more specific examples of AI technology and startups in India, as well as a deeper analysis of the impact of AI on Indian society and economy. Overall, it provides a good overview of the topic and highlights key areas of interest for readers.\n"
     ]
    }
   ],
   "source": [
    "print(final_state['feedback'])"
   ]
  },
  {
   "cell_type": "code",
   "execution_count": null,
   "id": "17677df4",
   "metadata": {},
   "outputs": [],
   "source": []
  }
 ],
 "metadata": {
  "kernelspec": {
   "display_name": "env",
   "language": "python",
   "name": "python3"
  },
  "language_info": {
   "codemirror_mode": {
    "name": "ipython",
    "version": 3
   },
   "file_extension": ".py",
   "mimetype": "text/x-python",
   "name": "python",
   "nbconvert_exporter": "python",
   "pygments_lexer": "ipython3",
   "version": "3.11.5"
  }
 },
 "nbformat": 4,
 "nbformat_minor": 5
}
