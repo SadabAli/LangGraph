{
 "cells": [
  {
   "cell_type": "code",
   "execution_count": null,
   "id": "1e824be3",
   "metadata": {},
   "outputs": [],
   "source": [
    "from langgraph.graph import StateGraph, START, END\n",
    "from langchain_openai import ChatOpenAI\n",
    "from typing import TypedDict\n",
    "from dotenv import load_dotenv\n",
    "load_dotenv()\n",
    "model = ChatOpenAI()"
   ]
  },
  {
   "cell_type": "code",
   "execution_count": null,
   "id": "2804c0de",
   "metadata": {},
   "outputs": [],
   "source": [
    "class BlogState(TypedDict):\n",
    "    title: str\n",
    "    outline: str\n",
    "    content: str\n",
    "    feedback: str"
   ]
  },
  {
   "cell_type": "code",
   "execution_count": null,
   "id": "1d2ce022",
   "metadata": {},
   "outputs": [],
   "source": [
    "def create_outline(state: BlogState) -> BlogState:\n",
    "    # fetch title\n",
    "    title = state['title']\n",
    "    # call llm gen outline\n",
    "    prompt = f'Generate a detailed outline for a blog on the topic - {title}'\n",
    "    outline = model.invoke(prompt).content\n",
    "    # update state\n",
    "    state['outline'] = outline\n",
    "    return state"
   ]
  },
  {
   "cell_type": "code",
   "execution_count": 4,
   "id": "f8426287",
   "metadata": {},
   "outputs": [],
   "source": [
    "def create_blog(state: BlogState) -> BlogState:\n",
    "\n",
    "    title = state['title']\n",
    "    outline = state['outline']\n",
    "\n",
    "    prompt = f'Write a detailed blog on the title - {title} using the follwing outline \\n {outline}'\n",
    "\n",
    "    content = model.invoke(prompt).content\n",
    "\n",
    "    state['content'] = content\n",
    "\n",
    "    return state\n"
   ]
  },
  {
   "cell_type": "code",
   "execution_count": 5,
   "id": "7f5e9001",
   "metadata": {},
   "outputs": [],
   "source": [
    "def evaluation(state: BlogState) -> BlogState:\n",
    "    title = state['title']\n",
    "    outline = state['outline']\n",
    "    # feedback = state['feedback']\n",
    "\n",
    "    prompt = f'please exaluate the blog on the title - {title} and the outline {outline} out of 10, not on text only number'\n",
    "\n",
    "    feedback = model.invoke(prompt).content \n",
    "\n",
    "    state['feedback'] = feedback \n",
    "\n",
    "    return state\n",
    "    "
   ]
  },
  {
   "cell_type": "code",
   "execution_count": 6,
   "id": "e61f9ee1",
   "metadata": {},
   "outputs": [],
   "source": [
    "graph = StateGraph(BlogState)\n",
    "\n",
    "# nodes\n",
    "graph.add_node('create_outline', create_outline)\n",
    "graph.add_node('create_blog', create_blog)\n",
    "graph.add_node('evaluation',evaluation)\n",
    "\n",
    "# edges\n",
    "graph.add_edge(START, 'create_outline')\n",
    "graph.add_edge('create_outline', 'create_blog')\n",
    "graph.add_edge('create_blog', 'evaluation')\n",
    "graph.add_edge('evaluation', END)\n",
    "\n",
    "workflow = graph.compile()\n"
   ]
  },
  {
   "cell_type": "code",
   "execution_count": 7,
   "id": "a57d569f",
   "metadata": {},
   "outputs": [
    {
     "name": "stdout",
     "output_type": "stream",
     "text": [
      "{'title': 'Rise of AI in India', 'outline': 'I. Introduction\\n    A. Definition of AI \\n    B. Importance of AI in India \\nII. The Current Landscape of AI in India \\n    A. Companies and startups leading the AI revolution \\n    B. Government initiatives promoting AI technology \\nIII. Applications of AI in Various Industries in India \\n    A. Healthcare \\n        1. AI in medical diagnosis \\n        2. AI in personalized medicine \\n    B. Retail \\n        1. AI in customer service \\n        2. AI in supply chain management \\n    C. Finance \\n        1. AI in fraud detection \\n        2. AI in investment analysis \\n    D. Agriculture \\n        1. AI in crop monitoring \\n        2. AI in smart agriculture \\nIV. Challenges and Opportunities in the Rise of AI in India \\n    A. Skill gap in the AI workforce \\n    B. Ethical concerns surrounding AI technology \\n    C. Opportunities for growth and innovation \\nV. The Future of AI in India \\n    A. Predictions for the growth of AI in India \\n    B. Potential impact on the economy and society \\n    C. Steps to ensure responsible and ethical AI development \\nVI. Conclusion \\n    A. Recap of key points \\n    B. Call to action for further exploration of AI technology in India.', 'content': \"Artificial Intelligence (AI) is a rapidly growing field that has the potential to revolutionize various industries in India. As the adoption of AI technology continues to rise, it is important to understand its impact on the country's economy and society. In this blog, we will delve into the rise of AI in India, exploring the current landscape, applications, challenges, opportunities, and the future of AI in the country.\\n\\nI. Introduction\\n\\nA. Definition of AI\\nArtificial Intelligence refers to the simulation of human intelligence processes by machines, including learning, reasoning, and self-correction. AI technologies such as machine learning, natural language processing, and computer vision are being used to develop systems that can perform tasks that typically require human intelligence.\\n\\nB. Importance of AI in India\\nAI has the potential to drive significant advancements in various sectors such as healthcare, retail, finance, agriculture, and more. By harnessing the power of AI, India can improve efficiency, productivity, and innovation across industries, ultimately contributing to economic growth and development.\\n\\nII. The Current Landscape of AI in India\\n\\nA. Companies and startups leading the AI revolution\\nSeveral Indian companies and startups are at the forefront of the AI revolution in the country. Tech giants like Tata Consultancy Services (TCS), Infosys, and Wipro have invested heavily in AI research and development. Additionally, startups such as Niki.ai, Artivatic, and SigTuple are pioneering innovative AI solutions in various sectors.\\n\\nB. Government initiatives promoting AI technology\\nThe Indian government has recognized the potential of AI technology and has taken several initiatives to promote its adoption in the country. In 2018, the government launched the National AI Portal to facilitate the development and adoption of AI technologies. Additionally, the NITI Aayog has released a national strategy for AI that outlines key focus areas and recommendations for AI development in India.\\n\\nIII. Applications of AI in Various Industries in India\\n\\nA. Healthcare\\n1. AI in medical diagnosis\\nAI-powered diagnostic tools can analyze medical images, detect abnormalities, and assist healthcare professionals in making accurate diagnoses.\\n2. AI in personalized medicine\\nAI algorithms can analyze patient data to personalize treatment plans and improve patient outcomes.\\n\\nB. Retail\\n1. AI in customer service\\nChatbots and virtual assistants powered by AI technology are being used by retailers to provide personalized customer service and improve the shopping experience.\\n2. AI in supply chain management\\nAI algorithms can optimize inventory management, forecasting, and logistics to streamline supply chain operations and reduce costs.\\n\\nC. Finance\\n1. AI in fraud detection\\nBanks and financial institutions are leveraging AI technology to detect fraudulent activities, prevent cybercrimes, and protect customer data.\\n2. AI in investment analysis\\nAI-powered tools can analyze market trends, predict stock prices, and help investors make informed decisions.\\n\\nD. Agriculture\\n1. AI in crop monitoring\\nAI-powered drones and sensors can monitor crop health, detect pests, and optimize irrigation practices to improve crop yields.\\n2. AI in smart agriculture\\nAI technologies can analyze weather data, predict crop yields, and recommend optimal farming practices to increase productivity and sustainability.\\n\\nIV. Challenges and Opportunities in the Rise of AI in India\\n\\nA. Skill gap in the AI workforce\\nThere is a shortage of skilled AI professionals in India, which poses a challenge to the widespread adoption of AI technology. To address this gap, more investment is needed in AI education and training programs.\\n\\nB. Ethical concerns surrounding AI technology\\nAs AI technology becomes more advanced, there are growing concerns about its impact on privacy, bias, and job displacement. It is important for policymakers, businesses, and researchers to address these ethical issues and develop guidelines for responsible AI development.\\n\\nC. Opportunities for growth and innovation\\nThe rise of AI in India presents numerous opportunities for growth and innovation in various sectors. By embracing AI technology, businesses can improve efficiency, enhance customer experiences, and drive economic development.\\n\\nV. The Future of AI in India\\n\\nA. Predictions for the growth of AI in India\\nThe adoption of AI technology is expected to continue to grow in India, with AI becoming increasingly integrated into various industries. By 2025, the Indian AI market is projected to reach $89.32 billion, according to a report by NASSCOM.\\n\\nB. Potential impact on the economy and society\\nAI has the potential to boost India's economic growth, create new job opportunities, and improve the quality of life for its citizens. However, it is important to ensure that AI development is inclusive and benefits all sections of society.\\n\\nC. Steps to ensure responsible and ethical AI development\\nTo harness the full potential of AI technology in India, it is essential to prioritize ethical considerations, promote diversity and inclusion in AI development, and establish clear guidelines for the responsible deployment of AI systems.\\n\\nVI. Conclusion\\n\\nIn conclusion, the rise of AI in India presents a plethora of opportunities for growth, innovation, and development across various sectors. By leveraging AI technology effectively and responsibly, India can position itself as a global leader in AI research and development. It is imperative for businesses, policymakers, and researchers to work together to address the challenges and seize the opportunities presented by the AI revolution in India. Embracing AI technology can lead to a brighter and more prosperous future for India and its citizens.\", 'feedback': 'I would rate this blog outline a 8 out of 10. \\n\\nThe outline covers all the necessary aspects of the topic \"Rise of AI in India\" including definitions, importance, current landscape, applications in various industries, challenges, opportunities, future predictions, and a call to action. It provides a comprehensive overview of the subject and is well-organized. \\n\\nHowever, to improve the outline further, it could include more specific examples of companies and startups leading the AI revolution in India, as well as delve deeper into the potential impact of AI on the Indian economy and society. Additionally, providing more detailed information on government initiatives promoting AI technology and steps to ensure responsible and ethical AI development would enhance the overall quality of the blog.'}\n"
     ]
    }
   ],
   "source": [
    "intial_state = {'title': 'Rise of AI in India'}\n",
    "\n",
    "final_state = workflow.invoke(intial_state)\n",
    "\n",
    "print(final_state)"
   ]
  },
  {
   "cell_type": "code",
   "execution_count": 8,
   "id": "ef5b6916",
   "metadata": {},
   "outputs": [
    {
     "name": "stdout",
     "output_type": "stream",
     "text": [
      "I would rate this blog outline a 8 out of 10. \n",
      "\n",
      "The outline covers all the necessary aspects of the topic \"Rise of AI in India\" including definitions, importance, current landscape, applications in various industries, challenges, opportunities, future predictions, and a call to action. It provides a comprehensive overview of the subject and is well-organized. \n",
      "\n",
      "However, to improve the outline further, it could include more specific examples of companies and startups leading the AI revolution in India, as well as delve deeper into the potential impact of AI on the Indian economy and society. Additionally, providing more detailed information on government initiatives promoting AI technology and steps to ensure responsible and ethical AI development would enhance the overall quality of the blog.\n"
     ]
    }
   ],
   "source": [
    "print(final_state['feedback'])"
   ]
  },
  {
   "cell_type": "code",
   "execution_count": null,
   "id": "17677df4",
   "metadata": {},
   "outputs": [],
   "source": []
  }
 ],
 "metadata": {
  "kernelspec": {
   "display_name": "env",
   "language": "python",
   "name": "python3"
  },
  "language_info": {
   "codemirror_mode": {
    "name": "ipython",
    "version": 3
   },
   "file_extension": ".py",
   "mimetype": "text/x-python",
   "name": "python",
   "nbconvert_exporter": "python",
   "pygments_lexer": "ipython3",
   "version": "3.11.5"
  }
 },
 "nbformat": 4,
 "nbformat_minor": 5
}
